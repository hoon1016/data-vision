{
  "nbformat": 4,
  "nbformat_minor": 0,
  "metadata": {
    "accelerator": "GPU",
    "colab": {
      "name": "38_0_vehicle_classification_mobilenetv2.ipynb",
      "provenance": [],
      "collapsed_sections": [],
      "machine_shape": "hm"
    },
    "kernelspec": {
      "display_name": "Python 3",
      "language": "python",
      "name": "python3"
    },
    "language_info": {
      "codemirror_mode": {
        "name": "ipython",
        "version": 3
      },
      "file_extension": ".py",
      "mimetype": "text/x-python",
      "name": "python",
      "nbconvert_exporter": "python",
      "pygments_lexer": "ipython3",
      "version": "3.7.7"
    }
  },
  "cells": [
    {
      "cell_type": "markdown",
      "metadata": {
        "id": "FTs4p-7w_h5A"
      },
      "source": [
        "# **The Vehicle Type Classification Project**\n",
        "\n"
      ]
    },
    {
      "cell_type": "markdown",
      "metadata": {
        "id": "GulSne0-q61L"
      },
      "source": [
        "# Summary\n",
        "\n",
        "\n",
        "- **Use Case:** Vehicle Type\n",
        "- **Algorithm:** MobileNetV2\n",
        "- **Number of training images:** 603\n",
        "- **Number of classes:** 7\n",
        "- **Batch Size:** 64\n",
        "- **Optimizer:** Adam \n",
        "- **Learning Rate:** 0.0001\n",
        "- **Loss Type:**CategoricalCrossentropy\n",
        "- **Transfer Learning:** Yes | Imagenet\n",
        "\n"
      ]
    },
    {
      "cell_type": "markdown",
      "metadata": {
        "id": "EOw4YADAAvGg"
      },
      "source": [
        " ## Labels\n",
        " \n",
        " 0: 'car-bus-alltypes',\n",
        "\n",
        " 1: 'car-sedan-alltypes',\n",
        " \n",
        " 2: 'car-suv-alltypes',\n",
        " \n",
        " 3: 'motocycle-bicycle-kids',\n",
        " \n",
        " 4: 'motocycle-bicycle-racing',\n",
        " \n",
        " 5: 'motocycle-motorbike-chopper',\n",
        " \n",
        " 6: 'motocycle-motorbike-sport'"
      ]
    },
    {
      "cell_type": "markdown",
      "metadata": {
        "id": "1BCXp3uGq7CX"
      },
      "source": [
        "## Import Library"
      ]
    },
    {
      "cell_type": "code",
      "metadata": {
        "id": "EW3iqcXRROSV"
      },
      "source": [
        "# import the necessary packages\n",
        "from tensorflow.keras.preprocessing.image import ImageDataGenerator\n",
        "from tensorflow.keras.layers import AveragePooling2D, GlobalAveragePooling2D, BatchNormalization\n",
        "#from tensorflow.keras.applications import ResNet50\n",
        "#from tensorflow.keras.applications import Xception\n",
        "from tensorflow.keras.applications import MobileNetV2\n",
        "from tensorflow.keras.layers import AveragePooling2D\n",
        "from tensorflow.keras.layers import Dropout\n",
        "from tensorflow.keras.layers import Flatten\n",
        "from tensorflow.keras.layers import Dense\n",
        "from tensorflow.keras.layers import Input\n",
        "from tensorflow.keras.models import Model\n",
        "from tensorflow.keras.optimizers import Adam\n",
        "from tensorflow.keras.optimizers import SGD\n",
        "from tensorflow.keras.utils import to_categorical\n",
        "from sklearn.preprocessing import LabelBinarizer\n",
        "from sklearn.model_selection import train_test_split\n",
        "from sklearn.metrics import classification_report\n",
        "from sklearn.metrics import confusion_matrix\n",
        "from imutils import paths\n",
        "import matplotlib.pyplot as plt\n",
        "import numpy as np\n",
        "import argparse\n",
        "import cv2\n",
        "import os\n",
        "import sys\n",
        "import tensorflow as tf\n",
        "import h5py\n",
        "import numpy as np\n",
        "import sys"
      ],
      "execution_count": 1,
      "outputs": []
    },
    {
      "cell_type": "code",
      "metadata": {
        "id": "YXw5D5GD8cH3",
        "colab": {
          "base_uri": "https://localhost:8080/"
        },
        "outputId": "d8aff47e-e93c-4513-c538-d47d1b61d7e0"
      },
      "source": [
        "print(tf.__version__)"
      ],
      "execution_count": null,
      "outputs": [
        {
          "output_type": "stream",
          "text": [
            "2.4.1\n"
          ],
          "name": "stdout"
        }
      ]
    },
    {
      "cell_type": "markdown",
      "metadata": {
        "id": "5afG8zRfAQOo"
      },
      "source": [
        "## 구글드라이브 마운트 하기"
      ]
    },
    {
      "cell_type": "code",
      "metadata": {
        "id": "bmqjaLybzrzo",
        "colab": {
          "base_uri": "https://localhost:8080/"
        },
        "outputId": "12e5dc96-d149-4b18-92d5-04da28d764f7"
      },
      "source": [
        "from google.colab import drive\n",
        "drive.mount('/content/drive')"
      ],
      "execution_count": 2,
      "outputs": [
        {
          "output_type": "stream",
          "text": [
            "Mounted at /content/drive\n"
          ],
          "name": "stdout"
        }
      ]
    },
    {
      "cell_type": "code",
      "metadata": {
        "id": "mshJaCLkrUiS"
      },
      "source": [
        "import os\r\n",
        "os.chdir('/content/drive/MyDrive/Colab Notebooks/day19')"
      ],
      "execution_count": 3,
      "outputs": []
    },
    {
      "cell_type": "markdown",
      "metadata": {
        "id": "tHFG0W98yLzC"
      },
      "source": [
        "### 다음 데이터셋을 다운로드하여, 압축을 풀고, 구글 드라이브에 올려놓는다.\n",
        "\n",
        "https://drive.google.com/file/d/1oAW1QoG77-WLPkPa2tAM4Mnpt1cznnDl/view?usp=sharing\n"
      ]
    },
    {
      "cell_type": "code",
      "metadata": {
        "id": "mdHf4iuFCavo",
        "colab": {
          "base_uri": "https://localhost:8080/"
        },
        "outputId": "1c8c2550-476d-4c48-8d53-8d861ed93d83"
      },
      "source": [
        "!unzip 38_실습파일.zip"
      ],
      "execution_count": 4,
      "outputs": [
        {
          "output_type": "stream",
          "text": [
            "Archive:  38_실습파일.zip\n",
            "   creating: test-images/\n",
            "  inflating: __MACOSX/._test-images  \n",
            "  inflating: test-images/bicycle.png  \n",
            "  inflating: __MACOSX/test-images/._bicycle.png  \n",
            "  inflating: test-images/bus.jpg     \n",
            "  inflating: __MACOSX/test-images/._bus.jpg  \n",
            "   creating: trained-models/\n",
            "  inflating: __MACOSX/._trained-models  \n",
            "   creating: trained-models/mobilenetv2/\n",
            "  inflating: __MACOSX/trained-models/._mobilenetv2  \n",
            "  inflating: trained-models/mobilenetv2/vehicle-classification-by-type-mobilenetv2-anis-1.h5  \n",
            "  inflating: __MACOSX/trained-models/mobilenetv2/._vehicle-classification-by-type-mobilenetv2-anis-1.h5  \n",
            "  inflating: trained-models/mobilenetv2/vehicle-classification-by-type-mobilenetv2-anis-1-2.h5  \n",
            "  inflating: __MACOSX/trained-models/mobilenetv2/._vehicle-classification-by-type-mobilenetv2-anis-1-2.h5  \n",
            "  inflating: trained-models/mobilenetv2/vehicle-classification-by-type-mobilenetv2-anis-2.h5  \n",
            "  inflating: __MACOSX/trained-models/mobilenetv2/._vehicle-classification-by-type-mobilenetv2-anis-2.h5  \n",
            "   creating: vehicle_datasets/\n",
            "  inflating: __MACOSX/._vehicle_datasets  \n",
            "  inflating: vehicle_datasets/vehicle-type-dataset-SIZE224.hdf5.csv  \n",
            "  inflating: __MACOSX/vehicle_datasets/._vehicle-type-dataset-SIZE224.hdf5.csv  \n",
            "  inflating: vehicle_datasets/vehicle-type-dataset-SIZE224.hdf5  \n",
            "  inflating: __MACOSX/vehicle_datasets/._vehicle-type-dataset-SIZE224.hdf5  \n",
            "  inflating: vehicle_datasets/vehicle-type-dataset-SIZE224-train-dev-test-v2.hdf5  \n",
            "  inflating: __MACOSX/vehicle_datasets/._vehicle-type-dataset-SIZE224-train-dev-test-v2.hdf5  \n"
          ],
          "name": "stdout"
        }
      ]
    },
    {
      "cell_type": "code",
      "metadata": {
        "id": "ARf9qY51Caka"
      },
      "source": [
        ""
      ],
      "execution_count": null,
      "outputs": []
    },
    {
      "cell_type": "markdown",
      "metadata": {
        "id": "vEbHwn85CbS7"
      },
      "source": [
        "## 경로 셋팅"
      ]
    },
    {
      "cell_type": "code",
      "metadata": {
        "id": "UyxCJZAtaYUB"
      },
      "source": [
        "TYPE='type'\n",
        "model_type='mobilenetv2'\n",
        "user='block'\n",
        "iteration='1-2'\n",
        "\n",
        "first_time_training=True\n",
        "\n",
        "PROJECT_PATH= '/content/drive/MyDrive/Colab Notebooks/day19'\n",
        "\n",
        "HDF5_DATASET_PATH=PROJECT_PATH+'/vehicle_datasets/vehicle-type-dataset-SIZE224-train-dev-test-v2.hdf5'\n",
        "\n",
        "TARGET_CLASSIFICATION_MODEL=PROJECT_PATH+'/trained-models/'+model_type+'/'+'vehicle-classification-by-'+TYPE+'-'+model_type+'-'+user+'-'+iteration+'.h5'\n",
        "\n",
        "CHECKPOINT_PATH = PROJECT_PATH+'/checkpoints/'+model_type+'/'+'by-'+TYPE+'-'+model_type+'-'+user+'-'+iteration+'.h5'\n",
        "\n",
        "LOGFILE_PATH=PROJECT_PATH+'/log/'+model_type+'/'+model_type+'-by-'+TYPE+'-training-log'+user+'-'+iteration+'.csv'\n"
      ],
      "execution_count": 5,
      "outputs": []
    },
    {
      "cell_type": "code",
      "metadata": {
        "id": "pW3UM1dFTrDj",
        "colab": {
          "base_uri": "https://localhost:8080/"
        },
        "outputId": "41f977e3-e2b8-4506-e391-1b96e3db4d30"
      },
      "source": [
        "print('PROJECT_PATH: ',PROJECT_PATH)\n",
        "print('HDF5_DATASET_PATH: ', HDF5_DATASET_PATH)\n",
        "print('TARGET_CLASSIFICATION_MODEL: ',TARGET_CLASSIFICATION_MODEL)\n",
        "print('CHECKPOINT_PATH: ',CHECKPOINT_PATH)\n",
        "print('LOGFILE_PATH: ',LOGFILE_PATH)"
      ],
      "execution_count": 6,
      "outputs": [
        {
          "output_type": "stream",
          "text": [
            "PROJECT_PATH:  /content/drive/MyDrive/Colab Notebooks/day19\n",
            "HDF5_DATASET_PATH:  /content/drive/MyDrive/Colab Notebooks/day19/vehicle_datasets/vehicle-type-dataset-SIZE224-train-dev-test-v2.hdf5\n",
            "TARGET_CLASSIFICATION_MODEL:  /content/drive/MyDrive/Colab Notebooks/day19/trained-models/mobilenetv2/vehicle-classification-by-type-mobilenetv2-block-1-2.h5\n",
            "CHECKPOINT_PATH:  /content/drive/MyDrive/Colab Notebooks/day19/checkpoints/mobilenetv2/by-type-mobilenetv2-block-1-2.h5\n",
            "LOGFILE_PATH:  /content/drive/MyDrive/Colab Notebooks/day19/log/mobilenetv2/mobilenetv2-by-type-training-logblock-1-2.csv\n"
          ],
          "name": "stdout"
        }
      ]
    },
    {
      "cell_type": "code",
      "metadata": {
        "id": "7C4gDYQskGLG"
      },
      "source": [
        "\n",
        "sys.path.append(PROJECT_PATH)\n"
      ],
      "execution_count": 7,
      "outputs": []
    },
    {
      "cell_type": "markdown",
      "metadata": {
        "id": "cuA-vehiW0Lf"
      },
      "source": [
        "# **Load the Dataset**"
      ]
    },
    {
      "cell_type": "code",
      "metadata": {
        "colab": {
          "base_uri": "https://localhost:8080/"
        },
        "id": "K6gswijlurPK",
        "outputId": "36694415-b353-42bb-b5bf-8146bea302cb"
      },
      "source": [
        "hf = h5py.File(HDF5_DATASET_PATH, 'r')\r\n",
        "\r\n",
        "np.array( hf['trainY'] )"
      ],
      "execution_count": 14,
      "outputs": [
        {
          "output_type": "execute_result",
          "data": {
            "text/plain": [
              "array([[0, 0, 0, ..., 0, 1, 0],\n",
              "       [0, 0, 0, ..., 0, 1, 0],\n",
              "       [0, 0, 0, ..., 1, 0, 0],\n",
              "       ...,\n",
              "       [1, 0, 0, ..., 0, 0, 0],\n",
              "       [0, 1, 0, ..., 0, 0, 0],\n",
              "       [1, 0, 0, ..., 0, 0, 0]])"
            ]
          },
          "metadata": {
            "tags": []
          },
          "execution_count": 14
        }
      ]
    },
    {
      "cell_type": "code",
      "metadata": {
        "id": "yCOCvDQliI5v"
      },
      "source": [
        "def load_dataset_from_hdf5_file(hdf_file_path):\n",
        "  # 함수 만들기\n",
        "  hf = h5py.File(hdf_file_path , 'r')\n",
        "\n",
        "  X_train = np.array( hf['trainX']  )\n",
        "  y_train = np.array( hf['trainY'] )\n",
        "  train_label = np.array( hf['trainLabels'])\n",
        "\n",
        "  X_test = np.array( hf['testX'])\n",
        "  y_test = np.array( hf['testY'])\n",
        "  test_label = np.array( hf['testLabels'])\n",
        "\n",
        "  X_val = np.array( hf['devX'])\n",
        "  y_val = np.array( hf['devY'])\n",
        "  val_label = np.array( hf['devLabels'])\n",
        "\n",
        "  return X_train, y_train, train_label, X_test, y_test, test_label, X_val, y_val, val_label\n",
        "  "
      ],
      "execution_count": 15,
      "outputs": []
    },
    {
      "cell_type": "code",
      "metadata": {
        "id": "C9vcFQA2Dqbi"
      },
      "source": [
        "X_train, y_train, train_label, X_test, y_test, test_label, X_val, y_val, val_label=load_dataset_from_hdf5_file(HDF5_DATASET_PATH)"
      ],
      "execution_count": 16,
      "outputs": []
    },
    {
      "cell_type": "code",
      "metadata": {
        "id": "iSCoPyAJC1wu",
        "colab": {
          "base_uri": "https://localhost:8080/"
        },
        "outputId": "f7c50f87-32b5-4ae0-d4ee-ec755b0f55b6"
      },
      "source": [
        "train_label"
      ],
      "execution_count": 19,
      "outputs": [
        {
          "output_type": "execute_result",
          "data": {
            "text/plain": [
              "array([b'motocycle-motorbike-chopper', b'motocycle-motorbike-chopper',\n",
              "       b'motocycle-bicycle-racing', b'car-suv-alltypes',\n",
              "       b'motocycle-motorbike-sport', b'motocycle-bicycle-racing',\n",
              "       b'car-suv-alltypes', b'car-suv-alltypes', b'car-bus-alltypes',\n",
              "       b'car-bus-alltypes', b'car-bus-alltypes', b'car-bus-alltypes',\n",
              "       b'motocycle-motorbike-chopper', b'motocycle-bicycle-kids',\n",
              "       b'motocycle-bicycle-kids', b'motocycle-bicycle-kids',\n",
              "       b'motocycle-bicycle-kids', b'motocycle-motorbike-chopper',\n",
              "       b'motocycle-bicycle-racing', b'motocycle-motorbike-chopper',\n",
              "       b'motocycle-motorbike-chopper', b'car-suv-alltypes',\n",
              "       b'motocycle-motorbike-sport', b'motocycle-motorbike-sport',\n",
              "       b'car-bus-alltypes', b'car-sedan-alltypes',\n",
              "       b'motocycle-bicycle-kids', b'motocycle-motorbike-sport',\n",
              "       b'motocycle-motorbike-chopper', b'car-suv-alltypes',\n",
              "       b'motocycle-bicycle-kids', b'car-suv-alltypes',\n",
              "       b'car-bus-alltypes', b'motocycle-motorbike-chopper',\n",
              "       b'motocycle-bicycle-racing', b'motocycle-bicycle-kids',\n",
              "       b'motocycle-bicycle-racing', b'car-bus-alltypes',\n",
              "       b'motocycle-motorbike-chopper', b'car-suv-alltypes',\n",
              "       b'motocycle-bicycle-racing', b'motocycle-bicycle-racing',\n",
              "       b'motocycle-motorbike-sport', b'car-bus-alltypes',\n",
              "       b'car-suv-alltypes', b'motocycle-motorbike-chopper',\n",
              "       b'motocycle-motorbike-sport', b'car-bus-alltypes',\n",
              "       b'motocycle-motorbike-chopper', b'motocycle-bicycle-racing',\n",
              "       b'car-sedan-alltypes', b'motocycle-motorbike-sport',\n",
              "       b'motocycle-motorbike-sport', b'motocycle-motorbike-chopper',\n",
              "       b'car-bus-alltypes', b'car-bus-alltypes', b'car-sedan-alltypes',\n",
              "       b'motocycle-bicycle-racing', b'car-suv-alltypes',\n",
              "       b'motocycle-motorbike-sport', b'motocycle-motorbike-chopper',\n",
              "       b'car-sedan-alltypes', b'car-suv-alltypes', b'car-sedan-alltypes',\n",
              "       b'car-bus-alltypes', b'car-bus-alltypes',\n",
              "       b'motocycle-bicycle-racing', b'car-bus-alltypes',\n",
              "       b'car-suv-alltypes', b'car-suv-alltypes',\n",
              "       b'motocycle-bicycle-kids', b'car-bus-alltypes',\n",
              "       b'car-bus-alltypes', b'car-sedan-alltypes', b'car-suv-alltypes',\n",
              "       b'motocycle-bicycle-racing', b'motocycle-bicycle-racing',\n",
              "       b'motocycle-bicycle-kids', b'motocycle-bicycle-kids',\n",
              "       b'motocycle-motorbike-sport', b'car-bus-alltypes',\n",
              "       b'motocycle-bicycle-racing', b'motocycle-motorbike-chopper',\n",
              "       b'motocycle-bicycle-kids', b'motocycle-bicycle-racing',\n",
              "       b'car-suv-alltypes', b'car-sedan-alltypes', b'car-sedan-alltypes',\n",
              "       b'motocycle-bicycle-racing', b'car-bus-alltypes',\n",
              "       b'car-sedan-alltypes', b'car-bus-alltypes',\n",
              "       b'motocycle-motorbike-chopper', b'car-bus-alltypes',\n",
              "       b'motocycle-motorbike-chopper', b'motocycle-bicycle-racing',\n",
              "       b'motocycle-bicycle-kids', b'motocycle-bicycle-racing',\n",
              "       b'motocycle-motorbike-sport', b'motocycle-motorbike-sport',\n",
              "       b'car-suv-alltypes', b'motocycle-bicycle-kids',\n",
              "       b'car-bus-alltypes', b'motocycle-motorbike-chopper',\n",
              "       b'car-suv-alltypes', b'car-sedan-alltypes',\n",
              "       b'motocycle-bicycle-kids', b'car-bus-alltypes',\n",
              "       b'motocycle-bicycle-kids', b'motocycle-motorbike-chopper',\n",
              "       b'car-sedan-alltypes', b'motocycle-bicycle-kids',\n",
              "       b'car-suv-alltypes', b'motocycle-bicycle-kids',\n",
              "       b'car-suv-alltypes', b'car-suv-alltypes', b'car-suv-alltypes',\n",
              "       b'car-suv-alltypes', b'motocycle-motorbike-sport',\n",
              "       b'motocycle-motorbike-chopper', b'car-bus-alltypes',\n",
              "       b'motocycle-bicycle-racing', b'motocycle-bicycle-racing',\n",
              "       b'motocycle-motorbike-sport', b'motocycle-motorbike-chopper',\n",
              "       b'car-suv-alltypes', b'car-bus-alltypes',\n",
              "       b'motocycle-bicycle-racing', b'motocycle-motorbike-sport',\n",
              "       b'motocycle-bicycle-racing', b'motocycle-motorbike-chopper',\n",
              "       b'car-bus-alltypes', b'car-sedan-alltypes', b'car-suv-alltypes',\n",
              "       b'motocycle-bicycle-kids', b'car-sedan-alltypes',\n",
              "       b'car-sedan-alltypes', b'motocycle-motorbike-sport',\n",
              "       b'car-suv-alltypes', b'motocycle-motorbike-chopper',\n",
              "       b'car-sedan-alltypes', b'motocycle-bicycle-kids',\n",
              "       b'car-sedan-alltypes', b'motocycle-bicycle-kids',\n",
              "       b'motocycle-bicycle-racing', b'car-suv-alltypes',\n",
              "       b'motocycle-bicycle-kids', b'motocycle-motorbike-sport',\n",
              "       b'car-bus-alltypes', b'car-bus-alltypes', b'car-sedan-alltypes',\n",
              "       b'car-bus-alltypes', b'motocycle-bicycle-kids',\n",
              "       b'car-sedan-alltypes', b'car-bus-alltypes',\n",
              "       b'motocycle-bicycle-racing', b'motocycle-bicycle-kids',\n",
              "       b'motocycle-motorbike-chopper', b'motocycle-motorbike-chopper',\n",
              "       b'car-bus-alltypes', b'car-sedan-alltypes',\n",
              "       b'motocycle-motorbike-sport', b'car-suv-alltypes',\n",
              "       b'motocycle-motorbike-sport', b'motocycle-bicycle-racing',\n",
              "       b'motocycle-bicycle-kids', b'car-sedan-alltypes',\n",
              "       b'motocycle-bicycle-kids', b'motocycle-motorbike-sport',\n",
              "       b'car-bus-alltypes', b'car-sedan-alltypes', b'car-sedan-alltypes',\n",
              "       b'motocycle-bicycle-kids', b'motocycle-bicycle-racing',\n",
              "       b'motocycle-motorbike-sport', b'motocycle-bicycle-racing',\n",
              "       b'car-sedan-alltypes', b'motocycle-bicycle-racing',\n",
              "       b'car-bus-alltypes', b'motocycle-bicycle-racing',\n",
              "       b'motocycle-bicycle-racing', b'motocycle-bicycle-kids',\n",
              "       b'car-sedan-alltypes', b'car-suv-alltypes', b'car-sedan-alltypes',\n",
              "       b'car-bus-alltypes', b'car-bus-alltypes', b'car-sedan-alltypes',\n",
              "       b'car-sedan-alltypes', b'motocycle-bicycle-kids',\n",
              "       b'car-suv-alltypes', b'motocycle-motorbike-sport',\n",
              "       b'motocycle-bicycle-racing', b'motocycle-motorbike-chopper',\n",
              "       b'motocycle-motorbike-chopper', b'motocycle-bicycle-kids',\n",
              "       b'car-sedan-alltypes', b'motocycle-motorbike-chopper',\n",
              "       b'car-sedan-alltypes', b'motocycle-bicycle-kids',\n",
              "       b'motocycle-bicycle-racing', b'motocycle-motorbike-chopper',\n",
              "       b'motocycle-motorbike-chopper', b'motocycle-motorbike-sport',\n",
              "       b'car-suv-alltypes', b'car-sedan-alltypes', b'car-suv-alltypes',\n",
              "       b'motocycle-bicycle-kids', b'motocycle-motorbike-sport',\n",
              "       b'motocycle-motorbike-sport', b'car-bus-alltypes',\n",
              "       b'motocycle-motorbike-chopper', b'motocycle-bicycle-kids',\n",
              "       b'car-suv-alltypes', b'car-bus-alltypes', b'car-suv-alltypes',\n",
              "       b'car-sedan-alltypes', b'car-sedan-alltypes',\n",
              "       b'car-sedan-alltypes', b'motocycle-bicycle-racing',\n",
              "       b'car-sedan-alltypes', b'motocycle-motorbike-chopper',\n",
              "       b'motocycle-motorbike-sport', b'motocycle-bicycle-kids',\n",
              "       b'car-sedan-alltypes', b'motocycle-motorbike-sport',\n",
              "       b'motocycle-motorbike-chopper', b'car-bus-alltypes',\n",
              "       b'motocycle-bicycle-racing', b'car-suv-alltypes',\n",
              "       b'car-bus-alltypes', b'motocycle-motorbike-sport',\n",
              "       b'motocycle-bicycle-kids', b'car-sedan-alltypes',\n",
              "       b'motocycle-bicycle-racing', b'car-bus-alltypes',\n",
              "       b'motocycle-motorbike-sport', b'motocycle-motorbike-chopper',\n",
              "       b'motocycle-motorbike-sport', b'car-bus-alltypes',\n",
              "       b'car-sedan-alltypes', b'motocycle-bicycle-racing',\n",
              "       b'motocycle-motorbike-sport', b'car-suv-alltypes',\n",
              "       b'car-sedan-alltypes', b'motocycle-bicycle-kids',\n",
              "       b'car-suv-alltypes', b'car-sedan-alltypes',\n",
              "       b'motocycle-motorbike-sport', b'car-suv-alltypes',\n",
              "       b'motocycle-motorbike-sport', b'motocycle-motorbike-sport',\n",
              "       b'car-suv-alltypes', b'car-suv-alltypes', b'car-suv-alltypes',\n",
              "       b'motocycle-bicycle-kids', b'car-sedan-alltypes',\n",
              "       b'car-suv-alltypes', b'motocycle-bicycle-racing',\n",
              "       b'car-suv-alltypes', b'motocycle-bicycle-kids',\n",
              "       b'motocycle-bicycle-kids', b'motocycle-bicycle-kids',\n",
              "       b'car-bus-alltypes', b'car-sedan-alltypes',\n",
              "       b'motocycle-bicycle-kids', b'motocycle-bicycle-racing',\n",
              "       b'car-sedan-alltypes', b'motocycle-bicycle-kids',\n",
              "       b'motocycle-bicycle-kids', b'motocycle-bicycle-racing',\n",
              "       b'motocycle-bicycle-racing', b'motocycle-bicycle-kids',\n",
              "       b'motocycle-bicycle-kids', b'car-sedan-alltypes',\n",
              "       b'motocycle-motorbike-chopper', b'motocycle-bicycle-kids',\n",
              "       b'motocycle-motorbike-sport', b'motocycle-motorbike-chopper',\n",
              "       b'motocycle-motorbike-sport', b'car-sedan-alltypes',\n",
              "       b'motocycle-motorbike-chopper', b'car-sedan-alltypes',\n",
              "       b'motocycle-bicycle-racing', b'motocycle-bicycle-racing',\n",
              "       b'motocycle-motorbike-chopper', b'car-suv-alltypes',\n",
              "       b'car-suv-alltypes', b'motocycle-motorbike-chopper',\n",
              "       b'car-bus-alltypes', b'motocycle-bicycle-kids',\n",
              "       b'motocycle-bicycle-kids', b'motocycle-motorbike-sport',\n",
              "       b'motocycle-bicycle-racing', b'car-sedan-alltypes',\n",
              "       b'motocycle-motorbike-sport', b'motocycle-motorbike-chopper',\n",
              "       b'motocycle-bicycle-kids', b'motocycle-bicycle-kids',\n",
              "       b'motocycle-motorbike-chopper', b'motocycle-bicycle-racing',\n",
              "       b'motocycle-bicycle-racing', b'motocycle-motorbike-chopper',\n",
              "       b'motocycle-motorbike-sport', b'motocycle-bicycle-racing',\n",
              "       b'motocycle-bicycle-racing', b'motocycle-motorbike-chopper',\n",
              "       b'car-sedan-alltypes', b'car-sedan-alltypes', b'car-bus-alltypes',\n",
              "       b'car-bus-alltypes', b'car-sedan-alltypes', b'car-sedan-alltypes',\n",
              "       b'motocycle-bicycle-kids', b'motocycle-motorbike-chopper',\n",
              "       b'car-sedan-alltypes', b'motocycle-bicycle-kids',\n",
              "       b'motocycle-bicycle-kids', b'motocycle-motorbike-sport',\n",
              "       b'motocycle-motorbike-chopper', b'car-suv-alltypes',\n",
              "       b'car-bus-alltypes', b'car-sedan-alltypes',\n",
              "       b'motocycle-bicycle-racing', b'motocycle-motorbike-chopper',\n",
              "       b'motocycle-motorbike-sport', b'car-sedan-alltypes',\n",
              "       b'car-suv-alltypes', b'motocycle-bicycle-kids',\n",
              "       b'motocycle-bicycle-kids', b'motocycle-bicycle-kids',\n",
              "       b'motocycle-bicycle-kids', b'motocycle-bicycle-racing',\n",
              "       b'motocycle-bicycle-kids', b'motocycle-bicycle-kids',\n",
              "       b'motocycle-bicycle-kids', b'car-bus-alltypes',\n",
              "       b'motocycle-motorbike-sport', b'motocycle-bicycle-kids',\n",
              "       b'motocycle-bicycle-racing', b'car-bus-alltypes',\n",
              "       b'car-bus-alltypes', b'motocycle-bicycle-racing',\n",
              "       b'motocycle-bicycle-kids', b'motocycle-bicycle-racing',\n",
              "       b'motocycle-bicycle-racing', b'motocycle-motorbike-sport',\n",
              "       b'motocycle-bicycle-kids', b'motocycle-bicycle-racing',\n",
              "       b'motocycle-bicycle-racing', b'motocycle-bicycle-racing',\n",
              "       b'car-suv-alltypes', b'motocycle-motorbike-chopper',\n",
              "       b'motocycle-bicycle-kids', b'motocycle-bicycle-racing',\n",
              "       b'motocycle-bicycle-kids', b'motocycle-bicycle-kids',\n",
              "       b'car-bus-alltypes', b'car-sedan-alltypes', b'car-sedan-alltypes',\n",
              "       b'motocycle-motorbike-chopper', b'car-sedan-alltypes',\n",
              "       b'motocycle-motorbike-sport', b'car-suv-alltypes',\n",
              "       b'car-bus-alltypes', b'car-sedan-alltypes', b'car-sedan-alltypes',\n",
              "       b'car-suv-alltypes', b'motocycle-bicycle-kids',\n",
              "       b'motocycle-bicycle-kids', b'car-sedan-alltypes',\n",
              "       b'motocycle-bicycle-kids', b'car-bus-alltypes',\n",
              "       b'motocycle-motorbike-sport', b'car-sedan-alltypes',\n",
              "       b'car-bus-alltypes', b'motocycle-motorbike-sport',\n",
              "       b'motocycle-motorbike-chopper', b'car-sedan-alltypes',\n",
              "       b'motocycle-motorbike-sport', b'car-bus-alltypes',\n",
              "       b'car-suv-alltypes', b'motocycle-motorbike-chopper',\n",
              "       b'motocycle-bicycle-kids', b'motocycle-bicycle-kids',\n",
              "       b'motocycle-bicycle-racing', b'motocycle-bicycle-kids',\n",
              "       b'motocycle-motorbike-sport', b'motocycle-motorbike-chopper',\n",
              "       b'car-sedan-alltypes', b'motocycle-motorbike-chopper',\n",
              "       b'motocycle-bicycle-racing', b'car-suv-alltypes',\n",
              "       b'motocycle-motorbike-sport', b'car-suv-alltypes',\n",
              "       b'car-bus-alltypes', b'car-bus-alltypes',\n",
              "       b'motocycle-bicycle-racing', b'motocycle-motorbike-sport',\n",
              "       b'car-sedan-alltypes', b'motocycle-motorbike-sport',\n",
              "       b'motocycle-bicycle-racing', b'motocycle-motorbike-sport',\n",
              "       b'car-suv-alltypes', b'motocycle-bicycle-kids',\n",
              "       b'motocycle-motorbike-sport', b'car-suv-alltypes',\n",
              "       b'car-bus-alltypes', b'motocycle-bicycle-racing',\n",
              "       b'car-bus-alltypes', b'car-bus-alltypes', b'car-suv-alltypes',\n",
              "       b'motocycle-bicycle-racing', b'car-suv-alltypes',\n",
              "       b'car-sedan-alltypes', b'motocycle-bicycle-kids',\n",
              "       b'car-sedan-alltypes', b'motocycle-motorbike-sport',\n",
              "       b'motocycle-motorbike-sport', b'motocycle-bicycle-kids',\n",
              "       b'motocycle-bicycle-kids', b'motocycle-motorbike-chopper',\n",
              "       b'car-bus-alltypes', b'car-sedan-alltypes', b'car-bus-alltypes',\n",
              "       b'car-suv-alltypes', b'motocycle-bicycle-kids',\n",
              "       b'car-sedan-alltypes', b'motocycle-bicycle-kids',\n",
              "       b'motocycle-bicycle-racing', b'motocycle-motorbike-sport',\n",
              "       b'motocycle-motorbike-chopper', b'motocycle-bicycle-kids',\n",
              "       b'car-suv-alltypes', b'motocycle-bicycle-kids',\n",
              "       b'motocycle-bicycle-kids', b'motocycle-motorbike-chopper',\n",
              "       b'car-bus-alltypes', b'car-sedan-alltypes',\n",
              "       b'motocycle-bicycle-racing', b'car-bus-alltypes',\n",
              "       b'motocycle-motorbike-sport', b'motocycle-motorbike-sport',\n",
              "       b'motocycle-bicycle-racing', b'motocycle-bicycle-racing',\n",
              "       b'car-suv-alltypes', b'motocycle-motorbike-sport',\n",
              "       b'motocycle-motorbike-sport', b'motocycle-motorbike-chopper',\n",
              "       b'car-suv-alltypes', b'motocycle-motorbike-chopper',\n",
              "       b'car-sedan-alltypes', b'car-sedan-alltypes',\n",
              "       b'motocycle-motorbike-sport', b'car-bus-alltypes',\n",
              "       b'motocycle-bicycle-racing', b'car-bus-alltypes',\n",
              "       b'motocycle-motorbike-chopper', b'car-suv-alltypes',\n",
              "       b'car-bus-alltypes', b'motocycle-motorbike-sport',\n",
              "       b'car-bus-alltypes', b'motocycle-bicycle-kids',\n",
              "       b'motocycle-motorbike-sport', b'car-bus-alltypes',\n",
              "       b'car-suv-alltypes', b'motocycle-bicycle-kids',\n",
              "       b'motocycle-bicycle-racing', b'car-bus-alltypes',\n",
              "       b'car-suv-alltypes', b'motocycle-motorbike-chopper',\n",
              "       b'car-sedan-alltypes', b'motocycle-motorbike-chopper',\n",
              "       b'car-suv-alltypes', b'car-bus-alltypes',\n",
              "       b'motocycle-motorbike-chopper', b'car-suv-alltypes',\n",
              "       b'motocycle-bicycle-kids', b'motocycle-bicycle-kids',\n",
              "       b'motocycle-motorbike-chopper', b'motocycle-bicycle-kids',\n",
              "       b'car-suv-alltypes', b'motocycle-bicycle-racing',\n",
              "       b'motocycle-motorbike-sport', b'car-bus-alltypes',\n",
              "       b'car-bus-alltypes', b'motocycle-bicycle-racing',\n",
              "       b'motocycle-bicycle-kids', b'car-sedan-alltypes',\n",
              "       b'motocycle-motorbike-chopper', b'motocycle-motorbike-sport',\n",
              "       b'motocycle-bicycle-kids', b'motocycle-bicycle-racing',\n",
              "       b'car-suv-alltypes', b'motocycle-motorbike-sport',\n",
              "       b'motocycle-motorbike-chopper', b'car-bus-alltypes',\n",
              "       b'motocycle-motorbike-chopper', b'car-bus-alltypes',\n",
              "       b'motocycle-motorbike-chopper', b'motocycle-motorbike-chopper',\n",
              "       b'car-sedan-alltypes', b'motocycle-motorbike-sport',\n",
              "       b'motocycle-motorbike-sport', b'car-sedan-alltypes',\n",
              "       b'car-suv-alltypes', b'motocycle-bicycle-kids',\n",
              "       b'car-sedan-alltypes', b'car-bus-alltypes', b'car-suv-alltypes',\n",
              "       b'motocycle-bicycle-kids', b'car-bus-alltypes',\n",
              "       b'motocycle-bicycle-kids', b'car-bus-alltypes',\n",
              "       b'car-sedan-alltypes', b'motocycle-bicycle-kids',\n",
              "       b'car-bus-alltypes', b'car-suv-alltypes', b'car-suv-alltypes',\n",
              "       b'car-sedan-alltypes', b'car-bus-alltypes',\n",
              "       b'motocycle-motorbike-sport', b'car-bus-alltypes',\n",
              "       b'motocycle-motorbike-sport', b'car-bus-alltypes',\n",
              "       b'motocycle-bicycle-kids', b'motocycle-motorbike-sport',\n",
              "       b'car-suv-alltypes', b'motocycle-motorbike-chopper',\n",
              "       b'motocycle-bicycle-racing', b'motocycle-motorbike-chopper',\n",
              "       b'car-bus-alltypes', b'motocycle-bicycle-racing',\n",
              "       b'motocycle-motorbike-sport', b'car-bus-alltypes',\n",
              "       b'car-bus-alltypes', b'motocycle-motorbike-sport',\n",
              "       b'car-suv-alltypes', b'motocycle-bicycle-kids',\n",
              "       b'motocycle-bicycle-kids', b'motocycle-motorbike-chopper',\n",
              "       b'motocycle-bicycle-racing', b'motocycle-motorbike-sport',\n",
              "       b'car-sedan-alltypes', b'car-sedan-alltypes', b'car-bus-alltypes',\n",
              "       b'car-sedan-alltypes', b'car-suv-alltypes',\n",
              "       b'motocycle-motorbike-chopper', b'car-bus-alltypes',\n",
              "       b'motocycle-motorbike-sport', b'car-bus-alltypes',\n",
              "       b'motocycle-motorbike-chopper', b'motocycle-bicycle-kids',\n",
              "       b'motocycle-motorbike-sport', b'car-sedan-alltypes',\n",
              "       b'car-sedan-alltypes', b'car-sedan-alltypes', b'car-bus-alltypes',\n",
              "       b'car-sedan-alltypes', b'motocycle-motorbike-sport',\n",
              "       b'motocycle-motorbike-sport', b'motocycle-motorbike-chopper',\n",
              "       b'car-sedan-alltypes', b'car-suv-alltypes',\n",
              "       b'motocycle-bicycle-kids', b'motocycle-bicycle-racing',\n",
              "       b'motocycle-motorbike-sport', b'motocycle-bicycle-kids',\n",
              "       b'car-sedan-alltypes', b'motocycle-motorbike-sport',\n",
              "       b'motocycle-bicycle-racing', b'car-sedan-alltypes',\n",
              "       b'motocycle-bicycle-racing', b'car-bus-alltypes',\n",
              "       b'car-suv-alltypes', b'car-suv-alltypes',\n",
              "       b'motocycle-bicycle-kids', b'motocycle-bicycle-racing',\n",
              "       b'motocycle-bicycle-racing', b'car-suv-alltypes',\n",
              "       b'car-bus-alltypes', b'motocycle-bicycle-kids',\n",
              "       b'motocycle-bicycle-kids', b'car-sedan-alltypes',\n",
              "       b'motocycle-bicycle-racing', b'car-suv-alltypes',\n",
              "       b'car-sedan-alltypes', b'motocycle-motorbike-sport',\n",
              "       b'car-bus-alltypes', b'car-bus-alltypes',\n",
              "       b'motocycle-bicycle-kids', b'car-bus-alltypes',\n",
              "       b'motocycle-motorbike-chopper', b'motocycle-motorbike-chopper',\n",
              "       b'motocycle-bicycle-racing', b'car-bus-alltypes',\n",
              "       b'car-bus-alltypes', b'motocycle-motorbike-chopper',\n",
              "       b'car-bus-alltypes', b'car-bus-alltypes', b'car-sedan-alltypes',\n",
              "       b'car-bus-alltypes'], dtype='|S30')"
            ]
          },
          "metadata": {
            "tags": []
          },
          "execution_count": 19
        }
      ]
    },
    {
      "cell_type": "code",
      "metadata": {
        "id": "rguVddIcC3AH"
      },
      "source": [
        ""
      ],
      "execution_count": null,
      "outputs": []
    },
    {
      "cell_type": "markdown",
      "metadata": {
        "id": "hNVeLhVkW7BT"
      },
      "source": [
        "# 사진이미지 확인해 보기"
      ]
    },
    {
      "cell_type": "code",
      "metadata": {
        "id": "YIA55wubC5ki",
        "colab": {
          "base_uri": "https://localhost:8080/",
          "height": 269
        },
        "outputId": "1d31ef19-433c-4ec0-c2ae-0beb9973eaf7"
      },
      "source": [
        "plt.imshow( X_train[1] )\r\n",
        "plt.show()"
      ],
      "execution_count": 29,
      "outputs": [
        {
          "output_type": "display_data",
          "data": {
            "image/png": "[encoded data removed]",
            "text/plain": [
              "<Figure size 432x288 with 1 Axes>"
            ]
          },
          "metadata": {
            "tags": [],
            "needs_background": "light"
          }
        }
      ]
    },
    {
      "cell_type": "code",
      "metadata": {
        "id": "UDpcSGY1C5hE",
        "colab": {
          "base_uri": "https://localhost:8080/"
        },
        "outputId": "3cff54f2-c1de-4d43-ddc8-335b9671b214"
      },
      "source": [
        "X_train[1].shape"
      ],
      "execution_count": 30,
      "outputs": [
        {
          "output_type": "execute_result",
          "data": {
            "text/plain": [
              "(224, 224, 3)"
            ]
          },
          "metadata": {
            "tags": []
          },
          "execution_count": 30
        }
      ]
    },
    {
      "cell_type": "code",
      "metadata": {
        "id": "tEann7vEC5eQ",
        "colab": {
          "base_uri": "https://localhost:8080/"
        },
        "outputId": "91c76f57-cd6e-4d42-8ee6-a92c054b59b8"
      },
      "source": [
        "X_train[1].max()"
      ],
      "execution_count": 31,
      "outputs": [
        {
          "output_type": "execute_result",
          "data": {
            "text/plain": [
              "1.0"
            ]
          },
          "metadata": {
            "tags": []
          },
          "execution_count": 31
        }
      ]
    },
    {
      "cell_type": "code",
      "metadata": {
        "id": "yrmZgqvHC5bQ",
        "colab": {
          "base_uri": "https://localhost:8080/"
        },
        "outputId": "9900021b-72d6-4c8d-f921-8e9f7b1f346f"
      },
      "source": [
        "X_train[1].min()"
      ],
      "execution_count": 32,
      "outputs": [
        {
          "output_type": "execute_result",
          "data": {
            "text/plain": [
              "0.00784313725490196"
            ]
          },
          "metadata": {
            "tags": []
          },
          "execution_count": 32
        }
      ]
    },
    {
      "cell_type": "code",
      "metadata": {
        "id": "9DbZrzIAC5YL",
        "colab": {
          "base_uri": "https://localhost:8080/"
        },
        "outputId": "7edebadd-7f24-48c4-f220-0d7802179454"
      },
      "source": [
        "y_train[1]"
      ],
      "execution_count": 33,
      "outputs": [
        {
          "output_type": "execute_result",
          "data": {
            "text/plain": [
              "array([0, 0, 0, 0, 0, 1, 0])"
            ]
          },
          "metadata": {
            "tags": []
          },
          "execution_count": 33
        }
      ]
    },
    {
      "cell_type": "code",
      "metadata": {
        "id": "30V5zI2aC5T4",
        "colab": {
          "base_uri": "https://localhost:8080/"
        },
        "outputId": "7a40ed72-d771-44bb-fcdd-520d48f22809"
      },
      "source": [
        "y_train[1].argmax()"
      ],
      "execution_count": 34,
      "outputs": [
        {
          "output_type": "execute_result",
          "data": {
            "text/plain": [
              "5"
            ]
          },
          "metadata": {
            "tags": []
          },
          "execution_count": 34
        }
      ]
    },
    {
      "cell_type": "code",
      "metadata": {
        "id": "utUCQapGC5QD",
        "colab": {
          "base_uri": "https://localhost:8080/"
        },
        "outputId": "5ec9e05f-0dbc-4777-9a4d-a628246652eb"
      },
      "source": [
        "train_label[1]"
      ],
      "execution_count": 35,
      "outputs": [
        {
          "output_type": "execute_result",
          "data": {
            "text/plain": [
              "b'motocycle-motorbike-chopper'"
            ]
          },
          "metadata": {
            "tags": []
          },
          "execution_count": 35
        }
      ]
    },
    {
      "cell_type": "code",
      "metadata": {
        "id": "jb3i_IBmC5Mr"
      },
      "source": [
        ""
      ],
      "execution_count": null,
      "outputs": []
    },
    {
      "cell_type": "markdown",
      "metadata": {
        "id": "aMOODjGBmjdS"
      },
      "source": [
        "# 모델링하기 : 트랜스퍼 러닝 적용\n",
        "\n",
        "# Data Augmentation"
      ]
    },
    {
      "cell_type": "code",
      "metadata": {
        "id": "s_0yDIb8DEHM"
      },
      "source": [
        "trainGen = ImageDataGenerator(rotation_range=20,\r\n",
        "                              horizontal_flip = True)"
      ],
      "execution_count": 36,
      "outputs": []
    },
    {
      "cell_type": "code",
      "metadata": {
        "id": "scRA83ixDEA2"
      },
      "source": [
        "baseModel = MobileNetV2(weights='imagenet', include_top=False,\r\n",
        "                        input_shape=(224, 224, 3))"
      ],
      "execution_count": 56,
      "outputs": []
    },
    {
      "cell_type": "code",
      "metadata": {
        "id": "TQLJW0nFDD-A",
        "colab": {
          "base_uri": "https://localhost:8080/"
        },
        "outputId": "f268e550-9194-41dc-af8b-846bd25151b6"
      },
      "source": [
        "baseModel.summary()"
      ],
      "execution_count": 57,
      "outputs": [
        {
          "output_type": "stream",
          "text": [
            "Model: \"mobilenetv2_1.00_224\"\n",
            "__________________________________________________________________________________________________\n",
            "Layer (type)                    Output Shape         Param #     Connected to                     \n",
            "==================================================================================================\n",
            "input_2 (InputLayer)            [(None, 224, 224, 3) 0                                            \n",
            "__________________________________________________________________________________________________\n",
            "Conv1 (Conv2D)                  (None, 112, 112, 32) 864         input_2[0][0]                    \n",
            "__________________________________________________________________________________________________\n",
            "bn_Conv1 (BatchNormalization)   (None, 112, 112, 32) 128         Conv1[0][0]                      \n",
            "__________________________________________________________________________________________________\n",
            "Conv1_relu (ReLU)               (None, 112, 112, 32) 0           bn_Conv1[0][0]                   \n",
            "__________________________________________________________________________________________________\n",
            "expanded_conv_depthwise (Depthw (None, 112, 112, 32) 288         Conv1_relu[0][0]                 \n",
            "__________________________________________________________________________________________________\n",
            "expanded_conv_depthwise_BN (Bat (None, 112, 112, 32) 128         expanded_conv_depthwise[0][0]    \n",
            "__________________________________________________________________________________________________\n",
            "expanded_conv_depthwise_relu (R (None, 112, 112, 32) 0           expanded_conv_depthwise_BN[0][0] \n",
            "__________________________________________________________________________________________________\n",
            "expanded_conv_project (Conv2D)  (None, 112, 112, 16) 512         expanded_conv_depthwise_relu[0][0\n",
            "__________________________________________________________________________________________________\n",
            "expanded_conv_project_BN (Batch (None, 112, 112, 16) 64          expanded_conv_project[0][0]      \n",
            "__________________________________________________________________________________________________\n",
            "block_1_expand (Conv2D)         (None, 112, 112, 96) 1536        expanded_conv_project_BN[0][0]   \n",
            "__________________________________________________________________________________________________\n",
            "block_1_expand_BN (BatchNormali (None, 112, 112, 96) 384         block_1_expand[0][0]             \n",
            "__________________________________________________________________________________________________\n",
            "block_1_expand_relu (ReLU)      (None, 112, 112, 96) 0           block_1_expand_BN[0][0]          \n",
            "__________________________________________________________________________________________________\n",
            "block_1_pad (ZeroPadding2D)     (None, 113, 113, 96) 0           block_1_expand_relu[0][0]        \n",
            "__________________________________________________________________________________________________\n",
            "block_1_depthwise (DepthwiseCon (None, 56, 56, 96)   864         block_1_pad[0][0]                \n",
            "__________________________________________________________________________________________________\n",
            "block_1_depthwise_BN (BatchNorm (None, 56, 56, 96)   384         block_1_depthwise[0][0]          \n",
            "__________________________________________________________________________________________________\n",
            "block_1_depthwise_relu (ReLU)   (None, 56, 56, 96)   0           block_1_depthwise_BN[0][0]       \n",
            "__________________________________________________________________________________________________\n",
            "block_1_project (Conv2D)        (None, 56, 56, 24)   2304        block_1_depthwise_relu[0][0]     \n",
            "__________________________________________________________________________________________________\n",
            "block_1_project_BN (BatchNormal (None, 56, 56, 24)   96          block_1_project[0][0]            \n",
            "__________________________________________________________________________________________________\n",
            "block_2_expand (Conv2D)         (None, 56, 56, 144)  3456        block_1_project_BN[0][0]         \n",
            "__________________________________________________________________________________________________\n",
            "block_2_expand_BN (BatchNormali (None, 56, 56, 144)  576         block_2_expand[0][0]             \n",
            "__________________________________________________________________________________________________\n",
            "block_2_expand_relu (ReLU)      (None, 56, 56, 144)  0           block_2_expand_BN[0][0]          \n",
            "__________________________________________________________________________________________________\n",
            "block_2_depthwise (DepthwiseCon (None, 56, 56, 144)  1296        block_2_expand_relu[0][0]        \n",
            "__________________________________________________________________________________________________\n",
            "block_2_depthwise_BN (BatchNorm (None, 56, 56, 144)  576         block_2_depthwise[0][0]          \n",
            "__________________________________________________________________________________________________\n",
            "block_2_depthwise_relu (ReLU)   (None, 56, 56, 144)  0           block_2_depthwise_BN[0][0]       \n",
            "__________________________________________________________________________________________________\n",
            "block_2_project (Conv2D)        (None, 56, 56, 24)   3456        block_2_depthwise_relu[0][0]     \n",
            "__________________________________________________________________________________________________\n",
            "block_2_project_BN (BatchNormal (None, 56, 56, 24)   96          block_2_project[0][0]            \n",
            "__________________________________________________________________________________________________\n",
            "block_2_add (Add)               (None, 56, 56, 24)   0           block_1_project_BN[0][0]         \n",
            "                                                                 block_2_project_BN[0][0]         \n",
            "__________________________________________________________________________________________________\n",
            "block_3_expand (Conv2D)         (None, 56, 56, 144)  3456        block_2_add[0][0]                \n",
            "__________________________________________________________________________________________________\n",
            "block_3_expand_BN (BatchNormali (None, 56, 56, 144)  576         block_3_expand[0][0]             \n",
            "__________________________________________________________________________________________________\n",
            "block_3_expand_relu (ReLU)      (None, 56, 56, 144)  0           block_3_expand_BN[0][0]          \n",
            "__________________________________________________________________________________________________\n",
            "block_3_pad (ZeroPadding2D)     (None, 57, 57, 144)  0           block_3_expand_relu[0][0]        \n",
            "__________________________________________________________________________________________________\n",
            "block_3_depthwise (DepthwiseCon (None, 28, 28, 144)  1296        block_3_pad[0][0]                \n",
            "__________________________________________________________________________________________________\n",
            "block_3_depthwise_BN (BatchNorm (None, 28, 28, 144)  576         block_3_depthwise[0][0]          \n",
            "__________________________________________________________________________________________________\n",
            "block_3_depthwise_relu (ReLU)   (None, 28, 28, 144)  0           block_3_depthwise_BN[0][0]       \n",
            "__________________________________________________________________________________________________\n",
            "block_3_project (Conv2D)        (None, 28, 28, 32)   4608        block_3_depthwise_relu[0][0]     \n",
            "__________________________________________________________________________________________________\n",
            "block_3_project_BN (BatchNormal (None, 28, 28, 32)   128         block_3_project[0][0]            \n",
            "__________________________________________________________________________________________________\n",
            "block_4_expand (Conv2D)         (None, 28, 28, 192)  6144        block_3_project_BN[0][0]         \n",
            "__________________________________________________________________________________________________\n",
            "block_4_expand_BN (BatchNormali (None, 28, 28, 192)  768         block_4_expand[0][0]             \n",
            "__________________________________________________________________________________________________\n",
            "block_4_expand_relu (ReLU)      (None, 28, 28, 192)  0           block_4_expand_BN[0][0]          \n",
            "__________________________________________________________________________________________________\n",
            "block_4_depthwise (DepthwiseCon (None, 28, 28, 192)  1728        block_4_expand_relu[0][0]        \n",
            "__________________________________________________________________________________________________\n",
            "block_4_depthwise_BN (BatchNorm (None, 28, 28, 192)  768         block_4_depthwise[0][0]          \n",
            "__________________________________________________________________________________________________\n",
            "block_4_depthwise_relu (ReLU)   (None, 28, 28, 192)  0           block_4_depthwise_BN[0][0]       \n",
            "__________________________________________________________________________________________________\n",
            "block_4_project (Conv2D)        (None, 28, 28, 32)   6144        block_4_depthwise_relu[0][0]     \n",
            "__________________________________________________________________________________________________\n",
            "block_4_project_BN (BatchNormal (None, 28, 28, 32)   128         block_4_project[0][0]            \n",
            "__________________________________________________________________________________________________\n",
            "block_4_add (Add)               (None, 28, 28, 32)   0           block_3_project_BN[0][0]         \n",
            "                                                                 block_4_project_BN[0][0]         \n",
            "__________________________________________________________________________________________________\n",
            "block_5_expand (Conv2D)         (None, 28, 28, 192)  6144        block_4_add[0][0]                \n",
            "__________________________________________________________________________________________________\n",
            "block_5_expand_BN (BatchNormali (None, 28, 28, 192)  768         block_5_expand[0][0]             \n",
            "__________________________________________________________________________________________________\n",
            "block_5_expand_relu (ReLU)      (None, 28, 28, 192)  0           block_5_expand_BN[0][0]          \n",
            "__________________________________________________________________________________________________\n",
            "block_5_depthwise (DepthwiseCon (None, 28, 28, 192)  1728        block_5_expand_relu[0][0]        \n",
            "__________________________________________________________________________________________________\n",
            "block_5_depthwise_BN (BatchNorm (None, 28, 28, 192)  768         block_5_depthwise[0][0]          \n",
            "__________________________________________________________________________________________________\n",
            "block_5_depthwise_relu (ReLU)   (None, 28, 28, 192)  0           block_5_depthwise_BN[0][0]       \n",
            "__________________________________________________________________________________________________\n",
            "block_5_project (Conv2D)        (None, 28, 28, 32)   6144        block_5_depthwise_relu[0][0]     \n",
            "__________________________________________________________________________________________________\n",
            "block_5_project_BN (BatchNormal (None, 28, 28, 32)   128         block_5_project[0][0]            \n",
            "__________________________________________________________________________________________________\n",
            "block_5_add (Add)               (None, 28, 28, 32)   0           block_4_add[0][0]                \n",
            "                                                                 block_5_project_BN[0][0]         \n",
            "__________________________________________________________________________________________________\n",
            "block_6_expand (Conv2D)         (None, 28, 28, 192)  6144        block_5_add[0][0]                \n",
            "__________________________________________________________________________________________________\n",
            "block_6_expand_BN (BatchNormali (None, 28, 28, 192)  768         block_6_expand[0][0]             \n",
            "__________________________________________________________________________________________________\n",
            "block_6_expand_relu (ReLU)      (None, 28, 28, 192)  0           block_6_expand_BN[0][0]          \n",
            "__________________________________________________________________________________________________\n",
            "block_6_pad (ZeroPadding2D)     (None, 29, 29, 192)  0           block_6_expand_relu[0][0]        \n",
            "__________________________________________________________________________________________________\n",
            "block_6_depthwise (DepthwiseCon (None, 14, 14, 192)  1728        block_6_pad[0][0]                \n",
            "__________________________________________________________________________________________________\n",
            "block_6_depthwise_BN (BatchNorm (None, 14, 14, 192)  768         block_6_depthwise[0][0]          \n",
            "__________________________________________________________________________________________________\n",
            "block_6_depthwise_relu (ReLU)   (None, 14, 14, 192)  0           block_6_depthwise_BN[0][0]       \n",
            "__________________________________________________________________________________________________\n",
            "block_6_project (Conv2D)        (None, 14, 14, 64)   12288       block_6_depthwise_relu[0][0]     \n",
            "__________________________________________________________________________________________________\n",
            "block_6_project_BN (BatchNormal (None, 14, 14, 64)   256         block_6_project[0][0]            \n",
            "__________________________________________________________________________________________________\n",
            "block_7_expand (Conv2D)         (None, 14, 14, 384)  24576       block_6_project_BN[0][0]         \n",
            "__________________________________________________________________________________________________\n",
            "block_7_expand_BN (BatchNormali (None, 14, 14, 384)  1536        block_7_expand[0][0]             \n",
            "__________________________________________________________________________________________________\n",
            "block_7_expand_relu (ReLU)      (None, 14, 14, 384)  0           block_7_expand_BN[0][0]          \n",
            "__________________________________________________________________________________________________\n",
            "block_7_depthwise (DepthwiseCon (None, 14, 14, 384)  3456        block_7_expand_relu[0][0]        \n",
            "__________________________________________________________________________________________________\n",
            "block_7_depthwise_BN (BatchNorm (None, 14, 14, 384)  1536        block_7_depthwise[0][0]          \n",
            "__________________________________________________________________________________________________\n",
            "block_7_depthwise_relu (ReLU)   (None, 14, 14, 384)  0           block_7_depthwise_BN[0][0]       \n",
            "__________________________________________________________________________________________________\n",
            "block_7_project (Conv2D)        (None, 14, 14, 64)   24576       block_7_depthwise_relu[0][0]     \n",
            "__________________________________________________________________________________________________\n",
            "block_7_project_BN (BatchNormal (None, 14, 14, 64)   256         block_7_project[0][0]            \n",
            "__________________________________________________________________________________________________\n",
            "block_7_add (Add)               (None, 14, 14, 64)   0           block_6_project_BN[0][0]         \n",
            "                                                                 block_7_project_BN[0][0]         \n",
            "__________________________________________________________________________________________________\n",
            "block_8_expand (Conv2D)         (None, 14, 14, 384)  24576       block_7_add[0][0]                \n",
            "__________________________________________________________________________________________________\n",
            "block_8_expand_BN (BatchNormali (None, 14, 14, 384)  1536        block_8_expand[0][0]             \n",
            "__________________________________________________________________________________________________\n",
            "block_8_expand_relu (ReLU)      (None, 14, 14, 384)  0           block_8_expand_BN[0][0]          \n",
            "__________________________________________________________________________________________________\n",
            "block_8_depthwise (DepthwiseCon (None, 14, 14, 384)  3456        block_8_expand_relu[0][0]        \n",
            "__________________________________________________________________________________________________\n",
            "block_8_depthwise_BN (BatchNorm (None, 14, 14, 384)  1536        block_8_depthwise[0][0]          \n",
            "__________________________________________________________________________________________________\n",
            "block_8_depthwise_relu (ReLU)   (None, 14, 14, 384)  0           block_8_depthwise_BN[0][0]       \n",
            "__________________________________________________________________________________________________\n",
            "block_8_project (Conv2D)        (None, 14, 14, 64)   24576       block_8_depthwise_relu[0][0]     \n",
            "__________________________________________________________________________________________________\n",
            "block_8_project_BN (BatchNormal (None, 14, 14, 64)   256         block_8_project[0][0]            \n",
            "__________________________________________________________________________________________________\n",
            "block_8_add (Add)               (None, 14, 14, 64)   0           block_7_add[0][0]                \n",
            "                                                                 block_8_project_BN[0][0]         \n",
            "__________________________________________________________________________________________________\n",
            "block_9_expand (Conv2D)         (None, 14, 14, 384)  24576       block_8_add[0][0]                \n",
            "__________________________________________________________________________________________________\n",
            "block_9_expand_BN (BatchNormali (None, 14, 14, 384)  1536        block_9_expand[0][0]             \n",
            "__________________________________________________________________________________________________\n",
            "block_9_expand_relu (ReLU)      (None, 14, 14, 384)  0           block_9_expand_BN[0][0]          \n",
            "__________________________________________________________________________________________________\n",
            "block_9_depthwise (DepthwiseCon (None, 14, 14, 384)  3456        block_9_expand_relu[0][0]        \n",
            "__________________________________________________________________________________________________\n",
            "block_9_depthwise_BN (BatchNorm (None, 14, 14, 384)  1536        block_9_depthwise[0][0]          \n",
            "__________________________________________________________________________________________________\n",
            "block_9_depthwise_relu (ReLU)   (None, 14, 14, 384)  0           block_9_depthwise_BN[0][0]       \n",
            "__________________________________________________________________________________________________\n",
            "block_9_project (Conv2D)        (None, 14, 14, 64)   24576       block_9_depthwise_relu[0][0]     \n",
            "__________________________________________________________________________________________________\n",
            "block_9_project_BN (BatchNormal (None, 14, 14, 64)   256         block_9_project[0][0]            \n",
            "__________________________________________________________________________________________________\n",
            "block_9_add (Add)               (None, 14, 14, 64)   0           block_8_add[0][0]                \n",
            "                                                                 block_9_project_BN[0][0]         \n",
            "__________________________________________________________________________________________________\n",
            "block_10_expand (Conv2D)        (None, 14, 14, 384)  24576       block_9_add[0][0]                \n",
            "__________________________________________________________________________________________________\n",
            "block_10_expand_BN (BatchNormal (None, 14, 14, 384)  1536        block_10_expand[0][0]            \n",
            "__________________________________________________________________________________________________\n",
            "block_10_expand_relu (ReLU)     (None, 14, 14, 384)  0           block_10_expand_BN[0][0]         \n",
            "__________________________________________________________________________________________________\n",
            "block_10_depthwise (DepthwiseCo (None, 14, 14, 384)  3456        block_10_expand_relu[0][0]       \n",
            "__________________________________________________________________________________________________\n",
            "block_10_depthwise_BN (BatchNor (None, 14, 14, 384)  1536        block_10_depthwise[0][0]         \n",
            "__________________________________________________________________________________________________\n",
            "block_10_depthwise_relu (ReLU)  (None, 14, 14, 384)  0           block_10_depthwise_BN[0][0]      \n",
            "__________________________________________________________________________________________________\n",
            "block_10_project (Conv2D)       (None, 14, 14, 96)   36864       block_10_depthwise_relu[0][0]    \n",
            "__________________________________________________________________________________________________\n",
            "block_10_project_BN (BatchNorma (None, 14, 14, 96)   384         block_10_project[0][0]           \n",
            "__________________________________________________________________________________________________\n",
            "block_11_expand (Conv2D)        (None, 14, 14, 576)  55296       block_10_project_BN[0][0]        \n",
            "__________________________________________________________________________________________________\n",
            "block_11_expand_BN (BatchNormal (None, 14, 14, 576)  2304        block_11_expand[0][0]            \n",
            "__________________________________________________________________________________________________\n",
            "block_11_expand_relu (ReLU)     (None, 14, 14, 576)  0           block_11_expand_BN[0][0]         \n",
            "__________________________________________________________________________________________________\n",
            "block_11_depthwise (DepthwiseCo (None, 14, 14, 576)  5184        block_11_expand_relu[0][0]       \n",
            "__________________________________________________________________________________________________\n",
            "block_11_depthwise_BN (BatchNor (None, 14, 14, 576)  2304        block_11_depthwise[0][0]         \n",
            "__________________________________________________________________________________________________\n",
            "block_11_depthwise_relu (ReLU)  (None, 14, 14, 576)  0           block_11_depthwise_BN[0][0]      \n",
            "__________________________________________________________________________________________________\n",
            "block_11_project (Conv2D)       (None, 14, 14, 96)   55296       block_11_depthwise_relu[0][0]    \n",
            "__________________________________________________________________________________________________\n",
            "block_11_project_BN (BatchNorma (None, 14, 14, 96)   384         block_11_project[0][0]           \n",
            "__________________________________________________________________________________________________\n",
            "block_11_add (Add)              (None, 14, 14, 96)   0           block_10_project_BN[0][0]        \n",
            "                                                                 block_11_project_BN[0][0]        \n",
            "__________________________________________________________________________________________________\n",
            "block_12_expand (Conv2D)        (None, 14, 14, 576)  55296       block_11_add[0][0]               \n",
            "__________________________________________________________________________________________________\n",
            "block_12_expand_BN (BatchNormal (None, 14, 14, 576)  2304        block_12_expand[0][0]            \n",
            "__________________________________________________________________________________________________\n",
            "block_12_expand_relu (ReLU)     (None, 14, 14, 576)  0           block_12_expand_BN[0][0]         \n",
            "__________________________________________________________________________________________________\n",
            "block_12_depthwise (DepthwiseCo (None, 14, 14, 576)  5184        block_12_expand_relu[0][0]       \n",
            "__________________________________________________________________________________________________\n",
            "block_12_depthwise_BN (BatchNor (None, 14, 14, 576)  2304        block_12_depthwise[0][0]         \n",
            "__________________________________________________________________________________________________\n",
            "block_12_depthwise_relu (ReLU)  (None, 14, 14, 576)  0           block_12_depthwise_BN[0][0]      \n",
            "__________________________________________________________________________________________________\n",
            "block_12_project (Conv2D)       (None, 14, 14, 96)   55296       block_12_depthwise_relu[0][0]    \n",
            "__________________________________________________________________________________________________\n",
            "block_12_project_BN (BatchNorma (None, 14, 14, 96)   384         block_12_project[0][0]           \n",
            "__________________________________________________________________________________________________\n",
            "block_12_add (Add)              (None, 14, 14, 96)   0           block_11_add[0][0]               \n",
            "                                                                 block_12_project_BN[0][0]        \n",
            "__________________________________________________________________________________________________\n",
            "block_13_expand (Conv2D)        (None, 14, 14, 576)  55296       block_12_add[0][0]               \n",
            "__________________________________________________________________________________________________\n",
            "block_13_expand_BN (BatchNormal (None, 14, 14, 576)  2304        block_13_expand[0][0]            \n",
            "__________________________________________________________________________________________________\n",
            "block_13_expand_relu (ReLU)     (None, 14, 14, 576)  0           block_13_expand_BN[0][0]         \n",
            "__________________________________________________________________________________________________\n",
            "block_13_pad (ZeroPadding2D)    (None, 15, 15, 576)  0           block_13_expand_relu[0][0]       \n",
            "__________________________________________________________________________________________________\n",
            "block_13_depthwise (DepthwiseCo (None, 7, 7, 576)    5184        block_13_pad[0][0]               \n",
            "__________________________________________________________________________________________________\n",
            "block_13_depthwise_BN (BatchNor (None, 7, 7, 576)    2304        block_13_depthwise[0][0]         \n",
            "__________________________________________________________________________________________________\n",
            "block_13_depthwise_relu (ReLU)  (None, 7, 7, 576)    0           block_13_depthwise_BN[0][0]      \n",
            "__________________________________________________________________________________________________\n",
            "block_13_project (Conv2D)       (None, 7, 7, 160)    92160       block_13_depthwise_relu[0][0]    \n",
            "__________________________________________________________________________________________________\n",
            "block_13_project_BN (BatchNorma (None, 7, 7, 160)    640         block_13_project[0][0]           \n",
            "__________________________________________________________________________________________________\n",
            "block_14_expand (Conv2D)        (None, 7, 7, 960)    153600      block_13_project_BN[0][0]        \n",
            "__________________________________________________________________________________________________\n",
            "block_14_expand_BN (BatchNormal (None, 7, 7, 960)    3840        block_14_expand[0][0]            \n",
            "__________________________________________________________________________________________________\n",
            "block_14_expand_relu (ReLU)     (None, 7, 7, 960)    0           block_14_expand_BN[0][0]         \n",
            "__________________________________________________________________________________________________\n",
            "block_14_depthwise (DepthwiseCo (None, 7, 7, 960)    8640        block_14_expand_relu[0][0]       \n",
            "__________________________________________________________________________________________________\n",
            "block_14_depthwise_BN (BatchNor (None, 7, 7, 960)    3840        block_14_depthwise[0][0]         \n",
            "__________________________________________________________________________________________________\n",
            "block_14_depthwise_relu (ReLU)  (None, 7, 7, 960)    0           block_14_depthwise_BN[0][0]      \n",
            "__________________________________________________________________________________________________\n",
            "block_14_project (Conv2D)       (None, 7, 7, 160)    153600      block_14_depthwise_relu[0][0]    \n",
            "__________________________________________________________________________________________________\n",
            "block_14_project_BN (BatchNorma (None, 7, 7, 160)    640         block_14_project[0][0]           \n",
            "__________________________________________________________________________________________________\n",
            "block_14_add (Add)              (None, 7, 7, 160)    0           block_13_project_BN[0][0]        \n",
            "                                                                 block_14_project_BN[0][0]        \n",
            "__________________________________________________________________________________________________\n",
            "block_15_expand (Conv2D)        (None, 7, 7, 960)    153600      block_14_add[0][0]               \n",
            "__________________________________________________________________________________________________\n",
            "block_15_expand_BN (BatchNormal (None, 7, 7, 960)    3840        block_15_expand[0][0]            \n",
            "__________________________________________________________________________________________________\n",
            "block_15_expand_relu (ReLU)     (None, 7, 7, 960)    0           block_15_expand_BN[0][0]         \n",
            "__________________________________________________________________________________________________\n",
            "block_15_depthwise (DepthwiseCo (None, 7, 7, 960)    8640        block_15_expand_relu[0][0]       \n",
            "__________________________________________________________________________________________________\n",
            "block_15_depthwise_BN (BatchNor (None, 7, 7, 960)    3840        block_15_depthwise[0][0]         \n",
            "__________________________________________________________________________________________________\n",
            "block_15_depthwise_relu (ReLU)  (None, 7, 7, 960)    0           block_15_depthwise_BN[0][0]      \n",
            "__________________________________________________________________________________________________\n",
            "block_15_project (Conv2D)       (None, 7, 7, 160)    153600      block_15_depthwise_relu[0][0]    \n",
            "__________________________________________________________________________________________________\n",
            "block_15_project_BN (BatchNorma (None, 7, 7, 160)    640         block_15_project[0][0]           \n",
            "__________________________________________________________________________________________________\n",
            "block_15_add (Add)              (None, 7, 7, 160)    0           block_14_add[0][0]               \n",
            "                                                                 block_15_project_BN[0][0]        \n",
            "__________________________________________________________________________________________________\n",
            "block_16_expand (Conv2D)        (None, 7, 7, 960)    153600      block_15_add[0][0]               \n",
            "__________________________________________________________________________________________________\n",
            "block_16_expand_BN (BatchNormal (None, 7, 7, 960)    3840        block_16_expand[0][0]            \n",
            "__________________________________________________________________________________________________\n",
            "block_16_expand_relu (ReLU)     (None, 7, 7, 960)    0           block_16_expand_BN[0][0]         \n",
            "__________________________________________________________________________________________________\n",
            "block_16_depthwise (DepthwiseCo (None, 7, 7, 960)    8640        block_16_expand_relu[0][0]       \n",
            "__________________________________________________________________________________________________\n",
            "block_16_depthwise_BN (BatchNor (None, 7, 7, 960)    3840        block_16_depthwise[0][0]         \n",
            "__________________________________________________________________________________________________\n",
            "block_16_depthwise_relu (ReLU)  (None, 7, 7, 960)    0           block_16_depthwise_BN[0][0]      \n",
            "__________________________________________________________________________________________________\n",
            "block_16_project (Conv2D)       (None, 7, 7, 320)    307200      block_16_depthwise_relu[0][0]    \n",
            "__________________________________________________________________________________________________\n",
            "block_16_project_BN (BatchNorma (None, 7, 7, 320)    1280        block_16_project[0][0]           \n",
            "__________________________________________________________________________________________________\n",
            "Conv_1 (Conv2D)                 (None, 7, 7, 1280)   409600      block_16_project_BN[0][0]        \n",
            "__________________________________________________________________________________________________\n",
            "Conv_1_bn (BatchNormalization)  (None, 7, 7, 1280)   5120        Conv_1[0][0]                     \n",
            "__________________________________________________________________________________________________\n",
            "out_relu (ReLU)                 (None, 7, 7, 1280)   0           Conv_1_bn[0][0]                  \n",
            "==================================================================================================\n",
            "Total params: 2,257,984\n",
            "Trainable params: 2,223,872\n",
            "Non-trainable params: 34,112\n",
            "__________________________________________________________________________________________________\n"
          ],
          "name": "stdout"
        }
      ]
    },
    {
      "cell_type": "code",
      "metadata": {
        "id": "oBk371fEDD7q"
      },
      "source": [
        "headModel = baseModel.output"
      ],
      "execution_count": 58,
      "outputs": []
    },
    {
      "cell_type": "code",
      "metadata": {
        "id": "_Z3phVTmDD4Q"
      },
      "source": [
        "headModel = AveragePooling2D((4,4))(headModel)\r\n",
        "headModel = Flatten()(headModel)\r\n",
        "headModel = Dense(128, activation='relu')(headModel)\r\n",
        "headModel = BatchNormalization()(headModel)\r\n",
        "headModel = Dense(64, activation='relu')(headModel)\r\n",
        "headModel = Dropout(0.5)(headModel)\r\n",
        "headModel = BatchNormalization()(headModel)\r\n",
        "headModel = Dense(7, activation='softmax')(headModel)"
      ],
      "execution_count": 59,
      "outputs": []
    },
    {
      "cell_type": "code",
      "metadata": {
        "id": "u80VMCnWDDyA"
      },
      "source": [
        "baseModel.trainable = False"
      ],
      "execution_count": 60,
      "outputs": []
    },
    {
      "cell_type": "code",
      "metadata": {
        "id": "Q5oWf6sLDD1P"
      },
      "source": [
        "model = Model(inputs = baseModel.input, outputs = headModel)"
      ],
      "execution_count": 61,
      "outputs": []
    },
    {
      "cell_type": "code",
      "metadata": {
        "id": "CYA25_xjDDuo"
      },
      "source": [
        ""
      ],
      "execution_count": 61,
      "outputs": []
    },
    {
      "cell_type": "markdown",
      "metadata": {
        "id": "Jlc2mz-3DJyY"
      },
      "source": [
        "###  콜백 만들기 : 가장 좋은 모델을 자동 저장하도록 함. 로그도 저장하도록 함."
      ]
    },
    {
      "cell_type": "code",
      "metadata": {
        "id": "qQttyBe5DV4k"
      },
      "source": [
        "from tensorflow.keras.callbacks import ModelCheckpoint\r\n",
        "from tensorflow.keras.callbacks import CSVLogger\r\n",
        "import pickle"
      ],
      "execution_count": 62,
      "outputs": []
    },
    {
      "cell_type": "code",
      "metadata": {
        "id": "rp9walpNDVvS"
      },
      "source": [
        "cp = ModelCheckpoint(filepath=CHECKPOINT_PATH, monitor='val_accuracy',\r\n",
        "                     save_best_only = True, verbose = 1)"
      ],
      "execution_count": 63,
      "outputs": []
    },
    {
      "cell_type": "code",
      "metadata": {
        "id": "Kl0DG1gBDVq6"
      },
      "source": [
        "csv_logger = CSVLogger(filename=LOGFILE_PATH, append = True)"
      ],
      "execution_count": 64,
      "outputs": []
    },
    {
      "cell_type": "code",
      "metadata": {
        "id": "SyPnq6BK62DV"
      },
      "source": [
        ""
      ],
      "execution_count": 64,
      "outputs": []
    },
    {
      "cell_type": "markdown",
      "metadata": {
        "id": "85JqdN5lDWbq"
      },
      "source": [
        "## 컴파일과 학습 : 에포크는 50"
      ]
    },
    {
      "cell_type": "code",
      "metadata": {
        "id": "UDW_iGy2DWJr"
      },
      "source": [
        "model.compile(optimizer=Adam(lr=0.0001), loss='categorical_crossentropy', \r\n",
        "              metrics = 'accuracy')"
      ],
      "execution_count": 65,
      "outputs": []
    },
    {
      "cell_type": "code",
      "metadata": {
        "id": "I3hIC6NRDbyd",
        "colab": {
          "base_uri": "https://localhost:8080/",
          "height": 53
        },
        "outputId": "8a68a29a-6a50-4b8c-d5bd-c06b81021d86"
      },
      "source": [
        "CHECKPOINT_PATH"
      ],
      "execution_count": 66,
      "outputs": [
        {
          "output_type": "execute_result",
          "data": {
            "application/vnd.google.colaboratory.intrinsic+json": {
              "type": "string"
            },
            "text/plain": [
              "'/content/drive/MyDrive/Colab Notebooks/day19/checkpoints/mobilenetv2/by-type-mobilenetv2-block-1-2.h5'"
            ]
          },
          "metadata": {
            "tags": []
          },
          "execution_count": 66
        }
      ]
    },
    {
      "cell_type": "code",
      "metadata": {
        "id": "zrTNc7wbDbu9",
        "colab": {
          "base_uri": "https://localhost:8080/",
          "height": 53
        },
        "outputId": "b03ff22c-71bd-476e-f135-45777d4bb339"
      },
      "source": [
        "LOGFILE_PATH"
      ],
      "execution_count": 67,
      "outputs": [
        {
          "output_type": "execute_result",
          "data": {
            "application/vnd.google.colaboratory.intrinsic+json": {
              "type": "string"
            },
            "text/plain": [
              "'/content/drive/MyDrive/Colab Notebooks/day19/log/mobilenetv2/mobilenetv2-by-type-training-logblock-1-2.csv'"
            ]
          },
          "metadata": {
            "tags": []
          },
          "execution_count": 67
        }
      ]
    },
    {
      "cell_type": "code",
      "metadata": {
        "id": "pWOcYNlADbrQ"
      },
      "source": [
        "if not os.path.exists(PROJECT_PATH+'/checkpoints/'+model_type+'/') :\r\n",
        "  os.makedirs(PROJECT_PATH+'/checkpoints/'+model_type+'/')\r\n",
        "\r\n",
        "if not os.path.exists(PROJECT_PATH+'/log/'+model_type+'/') :\r\n",
        "  os.makedirs(PROJECT_PATH+'/log/'+model_type+'/')"
      ],
      "execution_count": 68,
      "outputs": []
    },
    {
      "cell_type": "code",
      "metadata": {
        "colab": {
          "base_uri": "https://localhost:8080/"
        },
        "id": "K32ReA2g9R-J",
        "outputId": "a12cf5a1-f336-4921-dc4e-2e8fc2c2710e"
      },
      "source": [
        "history = model.fit(trainGen.flow(X_train, y_train, batch_size=64),\r\n",
        "                    # 만개의 데이터를 5천개씩 학습하면, steps_per_epoch는 2가 된다.\r\n",
        "                    # 만개의 데이터를 1개씩 학습하면, steps_per_epoch는 10000이 된다.\r\n",
        "                    steps_per_epoch = len(X_train) // 64,\r\n",
        "                    validation_data = (X_val, y_val),\r\n",
        "                    validation_steps = len(X_val) // 64,\r\n",
        "                    callbacks = [cp, csv_logger],\r\n",
        "                    epochs = 50\r\n",
        ")"
      ],
      "execution_count": 69,
      "outputs": [
        {
          "output_type": "stream",
          "text": [
            "Epoch 1/50\n",
            "9/9 [==============================] - 8s 619ms/step - loss: 2.6394 - accuracy: 0.1346 - val_loss: 2.0258 - val_accuracy: 0.1733\n",
            "\n",
            "Epoch 00001: val_accuracy improved from -inf to 0.17333, saving model to /content/drive/MyDrive/Colab Notebooks/day19/checkpoints/mobilenetv2/by-type-mobilenetv2-block-1-2.h5\n",
            "Epoch 2/50\n",
            "9/9 [==============================] - 5s 520ms/step - loss: 2.2973 - accuracy: 0.2005 - val_loss: 1.7421 - val_accuracy: 0.2667\n",
            "\n",
            "Epoch 00002: val_accuracy improved from 0.17333 to 0.26667, saving model to /content/drive/MyDrive/Colab Notebooks/day19/checkpoints/mobilenetv2/by-type-mobilenetv2-block-1-2.h5\n",
            "Epoch 3/50\n",
            "9/9 [==============================] - 5s 532ms/step - loss: 1.9308 - accuracy: 0.3155 - val_loss: 1.5018 - val_accuracy: 0.4000\n",
            "\n",
            "Epoch 00003: val_accuracy improved from 0.26667 to 0.40000, saving model to /content/drive/MyDrive/Colab Notebooks/day19/checkpoints/mobilenetv2/by-type-mobilenetv2-block-1-2.h5\n",
            "Epoch 4/50\n",
            "9/9 [==============================] - 5s 519ms/step - loss: 1.7262 - accuracy: 0.3933 - val_loss: 1.3109 - val_accuracy: 0.5733\n",
            "\n",
            "Epoch 00004: val_accuracy improved from 0.40000 to 0.57333, saving model to /content/drive/MyDrive/Colab Notebooks/day19/checkpoints/mobilenetv2/by-type-mobilenetv2-block-1-2.h5\n",
            "Epoch 5/50\n",
            "9/9 [==============================] - 5s 526ms/step - loss: 1.5735 - accuracy: 0.3979 - val_loss: 1.1488 - val_accuracy: 0.6667\n",
            "\n",
            "Epoch 00005: val_accuracy improved from 0.57333 to 0.66667, saving model to /content/drive/MyDrive/Colab Notebooks/day19/checkpoints/mobilenetv2/by-type-mobilenetv2-block-1-2.h5\n",
            "Epoch 6/50\n",
            "9/9 [==============================] - 5s 527ms/step - loss: 1.4186 - accuracy: 0.4911 - val_loss: 1.0170 - val_accuracy: 0.6933\n",
            "\n",
            "Epoch 00006: val_accuracy improved from 0.66667 to 0.69333, saving model to /content/drive/MyDrive/Colab Notebooks/day19/checkpoints/mobilenetv2/by-type-mobilenetv2-block-1-2.h5\n",
            "Epoch 7/50\n",
            "9/9 [==============================] - 5s 527ms/step - loss: 1.2388 - accuracy: 0.5290 - val_loss: 0.9110 - val_accuracy: 0.7467\n",
            "\n",
            "Epoch 00007: val_accuracy improved from 0.69333 to 0.74667, saving model to /content/drive/MyDrive/Colab Notebooks/day19/checkpoints/mobilenetv2/by-type-mobilenetv2-block-1-2.h5\n",
            "Epoch 8/50\n",
            "9/9 [==============================] - 5s 527ms/step - loss: 1.1712 - accuracy: 0.5659 - val_loss: 0.8249 - val_accuracy: 0.7867\n",
            "\n",
            "Epoch 00008: val_accuracy improved from 0.74667 to 0.78667, saving model to /content/drive/MyDrive/Colab Notebooks/day19/checkpoints/mobilenetv2/by-type-mobilenetv2-block-1-2.h5\n",
            "Epoch 9/50\n",
            "9/9 [==============================] - 5s 567ms/step - loss: 1.0941 - accuracy: 0.5620 - val_loss: 0.7531 - val_accuracy: 0.8133\n",
            "\n",
            "Epoch 00009: val_accuracy improved from 0.78667 to 0.81333, saving model to /content/drive/MyDrive/Colab Notebooks/day19/checkpoints/mobilenetv2/by-type-mobilenetv2-block-1-2.h5\n",
            "Epoch 10/50\n",
            "9/9 [==============================] - 5s 518ms/step - loss: 1.0060 - accuracy: 0.6408 - val_loss: 0.6915 - val_accuracy: 0.8133\n",
            "\n",
            "Epoch 00010: val_accuracy did not improve from 0.81333\n",
            "Epoch 11/50\n",
            "9/9 [==============================] - 5s 526ms/step - loss: 1.0596 - accuracy: 0.6169 - val_loss: 0.6379 - val_accuracy: 0.8533\n",
            "\n",
            "Epoch 00011: val_accuracy improved from 0.81333 to 0.85333, saving model to /content/drive/MyDrive/Colab Notebooks/day19/checkpoints/mobilenetv2/by-type-mobilenetv2-block-1-2.h5\n",
            "Epoch 12/50\n",
            "9/9 [==============================] - 5s 527ms/step - loss: 0.8880 - accuracy: 0.6984 - val_loss: 0.5955 - val_accuracy: 0.8533\n",
            "\n",
            "Epoch 00012: val_accuracy did not improve from 0.85333\n",
            "Epoch 13/50\n",
            "9/9 [==============================] - 5s 524ms/step - loss: 0.9130 - accuracy: 0.6597 - val_loss: 0.5550 - val_accuracy: 0.8800\n",
            "\n",
            "Epoch 00013: val_accuracy improved from 0.85333 to 0.88000, saving model to /content/drive/MyDrive/Colab Notebooks/day19/checkpoints/mobilenetv2/by-type-mobilenetv2-block-1-2.h5\n",
            "Epoch 14/50\n",
            "9/9 [==============================] - 5s 534ms/step - loss: 0.7964 - accuracy: 0.7465 - val_loss: 0.5218 - val_accuracy: 0.8933\n",
            "\n",
            "Epoch 00014: val_accuracy improved from 0.88000 to 0.89333, saving model to /content/drive/MyDrive/Colab Notebooks/day19/checkpoints/mobilenetv2/by-type-mobilenetv2-block-1-2.h5\n",
            "Epoch 15/50\n",
            "9/9 [==============================] - 5s 536ms/step - loss: 0.8500 - accuracy: 0.7146 - val_loss: 0.4948 - val_accuracy: 0.8933\n",
            "\n",
            "Epoch 00015: val_accuracy did not improve from 0.89333\n",
            "Epoch 16/50\n",
            "9/9 [==============================] - 5s 532ms/step - loss: 0.7398 - accuracy: 0.7337 - val_loss: 0.4718 - val_accuracy: 0.9067\n",
            "\n",
            "Epoch 00016: val_accuracy improved from 0.89333 to 0.90667, saving model to /content/drive/MyDrive/Colab Notebooks/day19/checkpoints/mobilenetv2/by-type-mobilenetv2-block-1-2.h5\n",
            "Epoch 17/50\n",
            "9/9 [==============================] - 5s 527ms/step - loss: 0.6869 - accuracy: 0.7746 - val_loss: 0.4491 - val_accuracy: 0.9200\n",
            "\n",
            "Epoch 00017: val_accuracy improved from 0.90667 to 0.92000, saving model to /content/drive/MyDrive/Colab Notebooks/day19/checkpoints/mobilenetv2/by-type-mobilenetv2-block-1-2.h5\n",
            "Epoch 18/50\n",
            "9/9 [==============================] - 5s 530ms/step - loss: 0.7601 - accuracy: 0.7496 - val_loss: 0.4324 - val_accuracy: 0.9067\n",
            "\n",
            "Epoch 00018: val_accuracy did not improve from 0.92000\n",
            "Epoch 19/50\n",
            "9/9 [==============================] - 5s 530ms/step - loss: 0.6993 - accuracy: 0.7736 - val_loss: 0.4157 - val_accuracy: 0.9067\n",
            "\n",
            "Epoch 00019: val_accuracy did not improve from 0.92000\n",
            "Epoch 20/50\n",
            "9/9 [==============================] - 5s 527ms/step - loss: 0.6808 - accuracy: 0.7773 - val_loss: 0.4004 - val_accuracy: 0.9067\n",
            "\n",
            "Epoch 00020: val_accuracy did not improve from 0.92000\n",
            "Epoch 21/50\n",
            "9/9 [==============================] - 5s 530ms/step - loss: 0.6486 - accuracy: 0.7868 - val_loss: 0.3889 - val_accuracy: 0.8933\n",
            "\n",
            "Epoch 00021: val_accuracy did not improve from 0.92000\n",
            "Epoch 22/50\n",
            "9/9 [==============================] - 5s 524ms/step - loss: 0.6248 - accuracy: 0.8070 - val_loss: 0.3805 - val_accuracy: 0.8933\n",
            "\n",
            "Epoch 00022: val_accuracy did not improve from 0.92000\n",
            "Epoch 23/50\n",
            "9/9 [==============================] - 5s 535ms/step - loss: 0.6568 - accuracy: 0.7946 - val_loss: 0.3695 - val_accuracy: 0.8933\n",
            "\n",
            "Epoch 00023: val_accuracy did not improve from 0.92000\n",
            "Epoch 24/50\n",
            "9/9 [==============================] - 5s 530ms/step - loss: 0.5622 - accuracy: 0.8172 - val_loss: 0.3574 - val_accuracy: 0.8933\n",
            "\n",
            "Epoch 00024: val_accuracy did not improve from 0.92000\n",
            "Epoch 25/50\n",
            "9/9 [==============================] - 5s 523ms/step - loss: 0.5487 - accuracy: 0.8381 - val_loss: 0.3460 - val_accuracy: 0.9067\n",
            "\n",
            "Epoch 00025: val_accuracy did not improve from 0.92000\n",
            "Epoch 26/50\n",
            "9/9 [==============================] - 5s 570ms/step - loss: 0.5641 - accuracy: 0.8276 - val_loss: 0.3380 - val_accuracy: 0.9333\n",
            "\n",
            "Epoch 00026: val_accuracy improved from 0.92000 to 0.93333, saving model to /content/drive/MyDrive/Colab Notebooks/day19/checkpoints/mobilenetv2/by-type-mobilenetv2-block-1-2.h5\n",
            "Epoch 27/50\n",
            "9/9 [==============================] - 5s 528ms/step - loss: 0.5637 - accuracy: 0.8410 - val_loss: 0.3323 - val_accuracy: 0.9333\n",
            "\n",
            "Epoch 00027: val_accuracy did not improve from 0.93333\n",
            "Epoch 28/50\n",
            "9/9 [==============================] - 5s 534ms/step - loss: 0.5234 - accuracy: 0.8590 - val_loss: 0.3270 - val_accuracy: 0.9333\n",
            "\n",
            "Epoch 00028: val_accuracy did not improve from 0.93333\n",
            "Epoch 29/50\n",
            "9/9 [==============================] - 5s 532ms/step - loss: 0.5253 - accuracy: 0.8538 - val_loss: 0.3205 - val_accuracy: 0.9333\n",
            "\n",
            "Epoch 00029: val_accuracy did not improve from 0.93333\n",
            "Epoch 30/50\n",
            "9/9 [==============================] - 5s 533ms/step - loss: 0.4602 - accuracy: 0.8761 - val_loss: 0.3131 - val_accuracy: 0.9467\n",
            "\n",
            "Epoch 00030: val_accuracy improved from 0.93333 to 0.94667, saving model to /content/drive/MyDrive/Colab Notebooks/day19/checkpoints/mobilenetv2/by-type-mobilenetv2-block-1-2.h5\n",
            "Epoch 31/50\n",
            "9/9 [==============================] - 5s 530ms/step - loss: 0.5078 - accuracy: 0.8434 - val_loss: 0.3075 - val_accuracy: 0.9467\n",
            "\n",
            "Epoch 00031: val_accuracy did not improve from 0.94667\n",
            "Epoch 32/50\n",
            "9/9 [==============================] - 5s 569ms/step - loss: 0.5179 - accuracy: 0.8618 - val_loss: 0.3032 - val_accuracy: 0.9467\n",
            "\n",
            "Epoch 00032: val_accuracy did not improve from 0.94667\n",
            "Epoch 33/50\n",
            "9/9 [==============================] - 5s 584ms/step - loss: 0.4850 - accuracy: 0.8614 - val_loss: 0.2978 - val_accuracy: 0.9467\n",
            "\n",
            "Epoch 00033: val_accuracy did not improve from 0.94667\n",
            "Epoch 34/50\n",
            "9/9 [==============================] - 5s 532ms/step - loss: 0.4505 - accuracy: 0.8783 - val_loss: 0.2921 - val_accuracy: 0.9467\n",
            "\n",
            "Epoch 00034: val_accuracy did not improve from 0.94667\n",
            "Epoch 35/50\n",
            "9/9 [==============================] - 5s 534ms/step - loss: 0.4975 - accuracy: 0.8469 - val_loss: 0.2889 - val_accuracy: 0.9467\n",
            "\n",
            "Epoch 00035: val_accuracy did not improve from 0.94667\n",
            "Epoch 36/50\n",
            "9/9 [==============================] - 5s 567ms/step - loss: 0.4735 - accuracy: 0.8616 - val_loss: 0.2836 - val_accuracy: 0.9467\n",
            "\n",
            "Epoch 00036: val_accuracy did not improve from 0.94667\n",
            "Epoch 37/50\n",
            "9/9 [==============================] - 5s 563ms/step - loss: 0.4678 - accuracy: 0.8600 - val_loss: 0.2771 - val_accuracy: 0.9467\n",
            "\n",
            "Epoch 00037: val_accuracy did not improve from 0.94667\n",
            "Epoch 38/50\n",
            "9/9 [==============================] - 5s 530ms/step - loss: 0.4048 - accuracy: 0.8784 - val_loss: 0.2716 - val_accuracy: 0.9467\n",
            "\n",
            "Epoch 00038: val_accuracy did not improve from 0.94667\n",
            "Epoch 39/50\n",
            "9/9 [==============================] - 5s 528ms/step - loss: 0.4333 - accuracy: 0.8900 - val_loss: 0.2661 - val_accuracy: 0.9467\n",
            "\n",
            "Epoch 00039: val_accuracy did not improve from 0.94667\n",
            "Epoch 40/50\n",
            "9/9 [==============================] - 5s 526ms/step - loss: 0.4237 - accuracy: 0.8708 - val_loss: 0.2610 - val_accuracy: 0.9467\n",
            "\n",
            "Epoch 00040: val_accuracy did not improve from 0.94667\n",
            "Epoch 41/50\n",
            "9/9 [==============================] - 5s 535ms/step - loss: 0.4564 - accuracy: 0.8633 - val_loss: 0.2583 - val_accuracy: 0.9467\n",
            "\n",
            "Epoch 00041: val_accuracy did not improve from 0.94667\n",
            "Epoch 42/50\n",
            "9/9 [==============================] - 5s 528ms/step - loss: 0.4449 - accuracy: 0.8849 - val_loss: 0.2560 - val_accuracy: 0.9467\n",
            "\n",
            "Epoch 00042: val_accuracy did not improve from 0.94667\n",
            "Epoch 43/50\n",
            "9/9 [==============================] - 5s 528ms/step - loss: 0.4305 - accuracy: 0.8719 - val_loss: 0.2547 - val_accuracy: 0.9467\n",
            "\n",
            "Epoch 00043: val_accuracy did not improve from 0.94667\n",
            "Epoch 44/50\n",
            "9/9 [==============================] - 5s 564ms/step - loss: 0.3711 - accuracy: 0.9009 - val_loss: 0.2545 - val_accuracy: 0.9467\n",
            "\n",
            "Epoch 00044: val_accuracy did not improve from 0.94667\n",
            "Epoch 45/50\n",
            "9/9 [==============================] - 5s 531ms/step - loss: 0.4430 - accuracy: 0.8803 - val_loss: 0.2522 - val_accuracy: 0.9333\n",
            "\n",
            "Epoch 00045: val_accuracy did not improve from 0.94667\n",
            "Epoch 46/50\n",
            "9/9 [==============================] - 5s 523ms/step - loss: 0.3700 - accuracy: 0.9050 - val_loss: 0.2484 - val_accuracy: 0.9333\n",
            "\n",
            "Epoch 00046: val_accuracy did not improve from 0.94667\n",
            "Epoch 47/50\n",
            "9/9 [==============================] - 5s 523ms/step - loss: 0.3521 - accuracy: 0.9027 - val_loss: 0.2457 - val_accuracy: 0.9333\n",
            "\n",
            "Epoch 00047: val_accuracy did not improve from 0.94667\n",
            "Epoch 48/50\n",
            "9/9 [==============================] - 5s 523ms/step - loss: 0.3454 - accuracy: 0.9261 - val_loss: 0.2410 - val_accuracy: 0.9333\n",
            "\n",
            "Epoch 00048: val_accuracy did not improve from 0.94667\n",
            "Epoch 49/50\n",
            "9/9 [==============================] - 5s 520ms/step - loss: 0.4010 - accuracy: 0.8875 - val_loss: 0.2377 - val_accuracy: 0.9333\n",
            "\n",
            "Epoch 00049: val_accuracy did not improve from 0.94667\n",
            "Epoch 50/50\n",
            "9/9 [==============================] - 5s 527ms/step - loss: 0.4070 - accuracy: 0.8682 - val_loss: 0.2331 - val_accuracy: 0.9333\n",
            "\n",
            "Epoch 00050: val_accuracy did not improve from 0.94667\n"
          ],
          "name": "stdout"
        }
      ]
    },
    {
      "cell_type": "code",
      "metadata": {
        "id": "AOq5j3yI9R0j"
      },
      "source": [
        ""
      ],
      "execution_count": null,
      "outputs": []
    },
    {
      "cell_type": "code",
      "metadata": {
        "id": "D5mEs8zODboJ"
      },
      "source": [
        ""
      ],
      "execution_count": null,
      "outputs": []
    },
    {
      "cell_type": "markdown",
      "metadata": {
        "id": "P3TZWy8uek85"
      },
      "source": [
        "# 트레이닝 및 밸리데이션의 정확도와 로스를 차트로 보기"
      ]
    },
    {
      "cell_type": "code",
      "metadata": {
        "id": "VcFZU70xDkqv"
      },
      "source": [
        ""
      ],
      "execution_count": null,
      "outputs": []
    },
    {
      "cell_type": "code",
      "metadata": {
        "id": "sES0vifvDkoE"
      },
      "source": [
        ""
      ],
      "execution_count": null,
      "outputs": []
    },
    {
      "cell_type": "code",
      "metadata": {
        "id": "N5x5mxw7DkkT"
      },
      "source": [
        ""
      ],
      "execution_count": null,
      "outputs": []
    },
    {
      "cell_type": "code",
      "metadata": {
        "id": "-gdqTKxQDkhW"
      },
      "source": [
        ""
      ],
      "execution_count": null,
      "outputs": []
    },
    {
      "cell_type": "code",
      "metadata": {
        "id": "kljhfizN53xy"
      },
      "source": [
        ""
      ],
      "execution_count": null,
      "outputs": []
    },
    {
      "cell_type": "markdown",
      "metadata": {
        "id": "FyKM0fyL-HFf"
      },
      "source": [
        "# 모델 평가"
      ]
    },
    {
      "cell_type": "code",
      "metadata": {
        "id": "TxZRYNVtDvcW"
      },
      "source": [
        ""
      ],
      "execution_count": null,
      "outputs": []
    },
    {
      "cell_type": "code",
      "metadata": {
        "id": "Gr1ShFk7DvZe"
      },
      "source": [
        ""
      ],
      "execution_count": null,
      "outputs": []
    },
    {
      "cell_type": "code",
      "metadata": {
        "id": "GfJ5zfTVDvWb"
      },
      "source": [
        ""
      ],
      "execution_count": null,
      "outputs": []
    },
    {
      "cell_type": "code",
      "metadata": {
        "id": "OKXAHgAuDvTf"
      },
      "source": [
        ""
      ],
      "execution_count": null,
      "outputs": []
    },
    {
      "cell_type": "code",
      "metadata": {
        "id": "cMpJ9aXRDvQf"
      },
      "source": [
        ""
      ],
      "execution_count": null,
      "outputs": []
    },
    {
      "cell_type": "code",
      "metadata": {
        "id": "NPZqL2fzDvNl"
      },
      "source": [
        ""
      ],
      "execution_count": null,
      "outputs": []
    },
    {
      "cell_type": "code",
      "metadata": {
        "id": "vpvwXqt4DvKh"
      },
      "source": [
        ""
      ],
      "execution_count": null,
      "outputs": []
    },
    {
      "cell_type": "code",
      "metadata": {
        "id": "VtiX_pL1DvHW"
      },
      "source": [
        ""
      ],
      "execution_count": null,
      "outputs": []
    },
    {
      "cell_type": "code",
      "metadata": {
        "id": "ITb1ljdb-GYr"
      },
      "source": [
        ""
      ],
      "execution_count": null,
      "outputs": []
    }
  ]
}